{
 "cells": [
  {
   "cell_type": "code",
   "execution_count": null,
   "metadata": {},
   "outputs": [],
   "source": [
    "import torch\n",
    "import torch.nn as nn\n",
    "import yaml\n",
    "import torch.distributions as distributions\n",
    "import torch.optim as optim\n",
    "from critic import Criticnet, SmallMLP\n",
    "from scorenet import Scorenet\n",
    "import os\n",
    "from datasets import toy_data\n",
    "import numpy as np \n",
    "import matplotlib\n",
    "from utils import keep_grad, approx_jacobian_trace, exact_jacobian_trace, \\\n",
    "    set_random_seed, get_logger, dict2namespace, get_opt, visualize_2d\n",
    "import importlib\n",
    "import argparse\n",
    "import matplotlib.pyplot as plt\n",
    "\n",
    "\n",
    "%load_ext autoreload\n",
    "%autoreload 2"
   ]
  },
  {
   "cell_type": "markdown",
   "metadata": {},
   "source": [
    "# Config"
   ]
  },
  {
   "cell_type": "code",
   "execution_count": null,
   "metadata": {},
   "outputs": [],
   "source": [
    "device = torch.device('cuda:0' if torch.cuda.is_available() else 'cpu')\n",
    "\n",
    "config_file = './test_config_toy_2d.yaml'\n",
    "\n",
    "def dict2namespace(config):\n",
    "    namespace = argparse.Namespace()\n",
    "    for key, value in config.items():\n",
    "        if isinstance(value, dict):\n",
    "            new_value = dict2namespace(value)\n",
    "        else:\n",
    "            new_value = value\n",
    "        setattr(namespace, key, new_value)\n",
    "    return namespace\n",
    "\n",
    "with open(config_file, 'r') as f:\n",
    "    config = yaml.load(f)\n",
    "        \n",
    "cfg = dict2namespace(config)\n",
    "cfg"
   ]
  },
  {
   "cell_type": "code",
   "execution_count": null,
   "metadata": {},
   "outputs": [],
   "source": [
    "def sample_data(data, n_points):\n",
    "    x = toy_data.inf_train_gen(data, n_points=n_points)\n",
    "    x = torch.from_numpy(x).type(torch.float32).to(device)\n",
    "    return x"
   ]
  },
  {
   "cell_type": "markdown",
   "metadata": {},
   "source": [
    "# Training"
   ]
  },
  {
   "cell_type": "code",
   "execution_count": null,
   "metadata": {},
   "outputs": [],
   "source": [
    "score_net = SmallMLP(n_dims=2, n_out=2)\n",
    "critic_net = SmallMLP(n_dims=2, n_out=2)\n",
    "\n",
    "critic_net.to(device)\n",
    "score_net.to(device)\n",
    "\n",
    "opt_scorenet, scheduler_scorenet = get_opt(score_net.parameters(), cfg.trainer.opt_scorenet)\n",
    "opt_criticnet, scheduler_criticnet = get_opt(critic_net.parameters(), cfg.trainer.opt_scorenet)\n",
    "\n",
    "k_iters = 5\n",
    "e_iters = 1\n",
    "epochs = 40000\n",
    "itr = 0\n",
    "\n",
    "losses = []\n",
    "\n",
    "for epoch in range(epochs):\n",
    "    tr_pts = sample_data('pinwheel', 4096).view(-1, 2)\n",
    "    \n",
    "    score_net.train()\n",
    "    critic_net.train()\n",
    "    opt_scorenet.zero_grad()\n",
    "    opt_criticnet.zero_grad()\n",
    "\n",
    "    tr_pts.requires_grad_()\n",
    "    batch_size = tr_pts.size(0)\n",
    "\n",
    "    perturbed_points = tr_pts\n",
    "\n",
    "    score_pred = score_net(perturbed_points)\n",
    "\n",
    "    critic_output = critic_net(perturbed_points)\n",
    "\n",
    "    t1 = (score_pred * critic_output).sum(-1)\n",
    "    t2 = exact_jacobian_trace(critic_output, perturbed_points)\n",
    "\n",
    "    stein = t1 + t2\n",
    "    l2_penalty = (critic_output * critic_output).sum(-1).mean()\n",
    "    loss = stein.mean()\n",
    "\n",
    "    losses.append(loss)\n",
    "\n",
    "    cycle_iter = itr % (k_iters + e_iters)\n",
    "\n",
    "    cpu_loss = loss.detach().cpu().item()\n",
    "    cpu_t1 = t1.mean().detach().cpu().item()\n",
    "    cpu_t2 = t2.mean().detach().cpu().item()\n",
    "\n",
    "    if cycle_iter < k_iters:\n",
    "        (-loss + l2_penalty).backward()\n",
    "        opt_criticnet.step()\n",
    "        log_message = \"Epoch %d (critic), Loss=%2.5f t1=%2.5f t2=%2.5f\" % (epoch, cpu_loss, cpu_t1, cpu_t2)\n",
    "    else:\n",
    "        loss.backward()\n",
    "        opt_scorenet.step()\n",
    "        log_message = \"Epoch %d (score), Loss=%2.5f t1=%2.5f t2=%2.5f\" % (epoch, cpu_loss, cpu_t1, cpu_t2)\n",
    "\n",
    "    print(log_message)\n",
    "    itr += 1\n",
    "\n",
    "#     if itr % cfg.log.save_freq == 0:\n",
    "#         score_net.cpu()\n",
    "\n",
    "#         torch.save({\n",
    "#             'args': args,\n",
    "#             'state_dict': score_net.state_dict(),\n",
    "#         }, os.path.join(cfg.log.save_dir, 'checkpt.pth'))\n",
    "\n",
    "#         score_net.to(device)\n",
    "\n",
    "#     if itr % cfg.log.viz_freq == 0:\n",
    "#         plt.clf()\n",
    "\n",
    "#         #pt_cl, _ = langevin_dynamics(score_net, sigmas, dim=2, eps=1e-4, num_steps=cfg.inference.num_steps)\n",
    "#         x_final = langevin_dynamics_lsd(score_net, l=1., e=.01, num_points=2048, n_steps=10)\n",
    "\n",
    "#         visualize_2d(x_final)\n",
    "\n",
    "#         fig_filename = os.path.join(cfg.log.save_dir, 'figs', 'sample-{:04d}.png'.format(itr))\n",
    "#         os.makedirs(os.path.dirname(fig_filename), exist_ok=True)\n",
    "#         plt.savefig(fig_filename)\n",
    "\n",
    "\n",
    "#         visualize_2d(perturbed_points)\n",
    "\n",
    "#         fig_filename = os.path.join(cfg.log.save_dir, 'figs', 'perturbed-{:04d}.png'.format(itr))\n",
    "#         os.makedirs(os.path.dirname(fig_filename), exist_ok=True)\n",
    "#         plt.savefig(fig_filename)\n",
    "\n",
    "#     itr += 1"
   ]
  },
  {
   "cell_type": "markdown",
   "metadata": {},
   "source": [
    "# Plot loss curve"
   ]
  },
  {
   "cell_type": "code",
   "execution_count": null,
   "metadata": {},
   "outputs": [],
   "source": [
    "fig = plt.figure(figsize=(10, 10))\n",
    "plt.plot(losses);"
   ]
  },
  {
   "cell_type": "markdown",
   "metadata": {},
   "source": [
    "# Plot learned gradient field"
   ]
  },
  {
   "cell_type": "code",
   "execution_count": null,
   "metadata": {},
   "outputs": [],
   "source": [
    "import numpy as np\n",
    "\n",
    "X = np.linspace(-4, 4, 30)\n",
    "Y = np.linspace(-4, 4, 30)\n",
    "grid = np.stack(np.meshgrid(X, Y), axis=-1).reshape(1, -1, 2)\n",
    "grid_tensor = torch.tensor(grid).float().to(device)\n",
    "grad_field = score_net(grid_tensor)\n",
    "grad_field_np = grad_field.detach().cpu().numpy()\n",
    "grad_field_np = grad_field_np[0]"
   ]
  },
  {
   "cell_type": "code",
   "execution_count": null,
   "metadata": {},
   "outputs": [],
   "source": [
    "fig, ax = plt.subplots(figsize=(10, 10))\n",
    "q = ax.quiver(grid[..., 0], grid[..., 1], grad_field_np[..., 0], grad_field_np[..., 1])\n",
    "ax.quiverkey(q, X=0.01, Y=0.01, U=0.01, label='Quiver key, length = 10', labelpos='E')\n",
    "sample_data = toy_data.inf_train_gen('pinwheel', n_points=4096)\n",
    "ax.scatter(sample_data[:, 0], sample_data[:, 1])\n",
    "plt.show()"
   ]
  },
  {
   "cell_type": "markdown",
   "metadata": {},
   "source": [
    "# Visualize sampling"
   ]
  },
  {
   "cell_type": "code",
   "execution_count": null,
   "metadata": {},
   "outputs": [],
   "source": [
    "def get_prior(num_points, inp_dim):\n",
    "    return (torch.rand(num_points, inp_dim) * 2. - 1.) * 4\n",
    "\n",
    "def langevin_dynamics_lsd_test(f, l=1., e=.01, num_points=2048, n_steps=100, anneal=None):\n",
    "        x_k = get_prior(num_points, 2).cuda()\n",
    "        # sgld\n",
    "        if anneal == \"lin\":\n",
    "            lrs = list(reversed(np.linspace(e, l, n_steps)))\n",
    "        elif anneal == \"log\":\n",
    "            lrs = np.logspace(np.log10(l), np.log10(e))\n",
    "        else:\n",
    "            lrs = [l for _ in range(n_steps)]\n",
    "        x_k_list = [x_k.clone()]\n",
    "        for this_lr in lrs:\n",
    "            x_k += this_lr * f(x_k) + torch.randn_like(x_k) * e\n",
    "            x_k_list.append(x_k.clone())\n",
    "        final_samples = x_k.detach()\n",
    "        return final_samples, x_k_list"
   ]
  },
  {
   "cell_type": "code",
   "execution_count": null,
   "metadata": {},
   "outputs": [],
   "source": [
    "x_final, all_samples = langevin_dynamics_lsd_test(score_net, l=0.004, e=.05, num_points=2048, n_steps=150)\n",
    "all_samples = [item.detach().cpu().numpy() for item in all_samples]"
   ]
  },
  {
   "cell_type": "code",
   "execution_count": null,
   "metadata": {},
   "outputs": [],
   "source": [
    "fig = plt.figure(figsize=(10, 10))\n",
    "visualize_2d(x_final)"
   ]
  },
  {
   "cell_type": "code",
   "execution_count": null,
   "metadata": {},
   "outputs": [],
   "source": [
    "from matplotlib import animation, rc\n",
    "rc('animation', html='html5')\n",
    "\n",
    "def animate(i, data, scat):\n",
    "    pts = data[i]\n",
    "    scatter.set_offsets(pts)\n",
    "    return scatter,\n",
    "\n",
    "fig = plt.figure(figsize=(10, 10))\n",
    "plt.xlim(-6, 6)\n",
    "plt.ylim(-6, 6)\n",
    "initial_pts = all_samples[0]\n",
    "scatter = plt.scatter(initial_pts[:, 0], initial_pts[:, 1])\n",
    "anim = animation.FuncAnimation(fig, animate, frames=range(len(all_samples) - 1),\n",
    "                                  fargs=(all_samples, scatter), interval=200)\n",
    "anim"
   ]
  },
  {
   "cell_type": "code",
   "execution_count": null,
   "metadata": {},
   "outputs": [],
   "source": []
  }
 ],
 "metadata": {
  "kernelspec": {
   "display_name": "Python 3",
   "language": "python",
   "name": "python3"
  },
  "language_info": {
   "codemirror_mode": {
    "name": "ipython",
    "version": 3
   },
   "file_extension": ".py",
   "mimetype": "text/x-python",
   "name": "python",
   "nbconvert_exporter": "python",
   "pygments_lexer": "ipython3",
   "version": "3.6.10"
  }
 },
 "nbformat": 4,
 "nbformat_minor": 2
}
