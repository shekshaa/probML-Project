{
 "cells": [
  {
   "cell_type": "code",
   "execution_count": 16,
   "metadata": {},
   "outputs": [
    {
     "name": "stdout",
     "output_type": "stream",
     "text": [
      "The autoreload extension is already loaded. To reload it, use:\n",
      "  %reload_ext autoreload\n"
     ]
    }
   ],
   "source": [
    "import yaml\n",
    "import torch\n",
    "import torch.nn as nn\n",
    "import numpy as np\n",
    "import tqdm\n",
    "import os\n",
    "import argparse\n",
    "from torch.backends import cudnn\n",
    "from matplotlib import pyplot as plt\n",
    "\n",
    "cudnn.benchmark = True\n",
    "\n",
    "def delete_module(name):\n",
    "    import sys\n",
    "    del sys.modules[name]\n",
    "    \n",
    "%load_ext autoreload\n",
    "%autoreload 2"
   ]
  },
  {
   "cell_type": "code",
   "execution_count": 2,
   "metadata": {},
   "outputs": [],
   "source": [
    "# delete_module('scorenet')\n",
    "# from scorenet import Scorenet"
   ]
  },
  {
   "cell_type": "code",
   "execution_count": 3,
   "metadata": {},
   "outputs": [],
   "source": [
    "# delete_module('critic')\n",
    "# from critic import Criticnet"
   ]
  },
  {
   "cell_type": "code",
   "execution_count": 4,
   "metadata": {},
   "outputs": [],
   "source": [
    "device = torch.device('cuda:0' if torch.cuda.is_available() else 'cpu')"
   ]
  },
  {
   "cell_type": "code",
   "execution_count": 5,
   "metadata": {},
   "outputs": [
    {
     "name": "stderr",
     "output_type": "stream",
     "text": [
      "/nfs/rhea.dgp/u6/a/mrsalehi/.virtualenvs/prob-learn-proj/lib/python3.6/site-packages/ipykernel_launcher.py:14: YAMLLoadWarning: calling yaml.load() without Loader=... is deprecated, as the default Loader is unsafe. Please read https://msg.pyyaml.org/load for full details.\n",
      "  \n"
     ]
    },
    {
     "data": {
      "text/plain": [
       "Namespace(data=Namespace(batch_size=32, cates=['0'], data_dir='data/MNIST-CP', dataset_scale=1, dataset_type='MNIST_CP', normalize_per_shape=False, normalize_std_per_axis=False, num_workers=4, recenter_per_shape=True, te_max_sample_points=0, tr_max_sample_points=800, type='datasets.mnist_cp'), inference=Namespace(num_points=2048, num_steps=10, step_size_ratio=1, weight=1), models=Namespace(scorenet=Namespace(dim=3, hidden_size=256, n_blocks=24, out_dim=3, param_likelihood=False, sigma_condition=True, type='models.decoders.resnet_add', xyz_condition=True, z_dim=128)), trainer=Namespace(epochs=100, opt_criticnet=Namespace(beta1=0.9, beta2=0.999, lr='1e-3', momentum=0.9, scheduler='linear', step_epoch=2000, type='adam', weight_decay=0.0), opt_scorenet=Namespace(beta1=0.9, beta2=0.999, lr='1e-3', momentum=0.9, scheduler='linear', step_epoch=2000, type='adam', weight_decay=0.0), seed=100, sigma_begin=1, sigma_end=0.01, sigma_num=10, type='trainers.ae_trainer_3D'), viz=Namespace(log_freq=10, save_freq=100, val_freq=100, viz_freq=5000))"
      ]
     },
     "execution_count": 5,
     "metadata": {},
     "output_type": "execute_result"
    }
   ],
   "source": [
    "config_file = './test_config_mnist.yaml'\n",
    "\n",
    "def dict2namespace(config):\n",
    "    namespace = argparse.Namespace()\n",
    "    for key, value in config.items():\n",
    "        if isinstance(value, dict):\n",
    "            new_value = dict2namespace(value)\n",
    "        else:\n",
    "            new_value = value\n",
    "        setattr(namespace, key, new_value)\n",
    "    return namespace\n",
    "\n",
    "with open(config_file, 'r') as f:\n",
    "    config = yaml.load(f)\n",
    "        \n",
    "cfg = dict2namespace(config)\n",
    "cfg"
   ]
  },
  {
   "cell_type": "code",
   "execution_count": 6,
   "metadata": {},
   "outputs": [
    {
     "data": {
      "text/plain": [
       "Namespace(batch_size=32, cates=['0'], data_dir='data/MNIST-CP', dataset_scale=1, dataset_type='MNIST_CP', normalize_per_shape=False, normalize_std_per_axis=False, num_workers=4, recenter_per_shape=True, te_max_sample_points=0, tr_max_sample_points=800, type='datasets.mnist_cp')"
      ]
     },
     "execution_count": 6,
     "metadata": {},
     "output_type": "execute_result"
    }
   ],
   "source": [
    "cfg.data"
   ]
  },
  {
   "cell_type": "code",
   "execution_count": 7,
   "metadata": {},
   "outputs": [
    {
     "data": {
      "text/plain": [
       "Namespace(epochs=100, opt_criticnet=Namespace(beta1=0.9, beta2=0.999, lr='1e-3', momentum=0.9, scheduler='linear', step_epoch=2000, type='adam', weight_decay=0.0), opt_scorenet=Namespace(beta1=0.9, beta2=0.999, lr='1e-3', momentum=0.9, scheduler='linear', step_epoch=2000, type='adam', weight_decay=0.0), seed=100, sigma_begin=1, sigma_end=0.01, sigma_num=10, type='trainers.ae_trainer_3D')"
      ]
     },
     "execution_count": 7,
     "metadata": {},
     "output_type": "execute_result"
    }
   ],
   "source": [
    "cfg.trainer"
   ]
  },
  {
   "cell_type": "code",
   "execution_count": 8,
   "metadata": {},
   "outputs": [
    {
     "data": {
      "text/plain": [
       "Namespace(scorenet=Namespace(dim=3, hidden_size=256, n_blocks=24, out_dim=3, param_likelihood=False, sigma_condition=True, type='models.decoders.resnet_add', xyz_condition=True, z_dim=128))"
      ]
     },
     "execution_count": 8,
     "metadata": {},
     "output_type": "execute_result"
    }
   ],
   "source": [
    "cfg.models"
   ]
  },
  {
   "cell_type": "code",
   "execution_count": 9,
   "metadata": {},
   "outputs": [
    {
     "data": {
      "text/plain": [
       "Namespace(num_points=2048, num_steps=10, step_size_ratio=1, weight=1)"
      ]
     },
     "execution_count": 9,
     "metadata": {},
     "output_type": "execute_result"
    }
   ],
   "source": [
    "cfg.inference"
   ]
  },
  {
   "cell_type": "code",
   "execution_count": 10,
   "metadata": {},
   "outputs": [
    {
     "data": {
      "text/plain": [
       "Namespace(log_freq=10, save_freq=100, val_freq=100, viz_freq=5000)"
      ]
     },
     "execution_count": 10,
     "metadata": {},
     "output_type": "execute_result"
    }
   ],
   "source": [
    "cfg.viz"
   ]
  },
  {
   "cell_type": "markdown",
   "metadata": {},
   "source": [
    "# Train"
   ]
  },
  {
   "cell_type": "code",
   "execution_count": 11,
   "metadata": {},
   "outputs": [],
   "source": [
    "from scorenet import Scorenet\n",
    "from critic import Criticnet\n",
    "from utils import get_opt, approx_jacobian_trace, set_random_seed, exact_jacobian_trace\n",
    "from data_loader import get_data, get_data_mnist_cp\n",
    "import random"
   ]
  },
  {
   "cell_type": "code",
   "execution_count": 12,
   "metadata": {},
   "outputs": [
    {
     "name": "stderr",
     "output_type": "stream",
     "text": [
      "100%|██████████| 1/1 [00:02<00:00,  2.69s/it]\n"
     ]
    },
    {
     "name": "stdout",
     "output_type": "stream",
     "text": [
      "Total number of data:4729\n",
      "Min number of points: (train)600 (test)0\n"
     ]
    }
   ],
   "source": [
    "set_random_seed(getattr(cfg.trainer, \"seed\", 666))\n",
    "\n",
    "# load data\n",
    "train_data = get_data_mnist_cp(cfg.data, 0)\n",
    "tr_pts = train_data['tr_points'].unsqueeze(0)\n",
    "te_pts = train_data['te_points'].unsqueeze(0)\n",
    "tr_pts = tr_pts.to(device)\n",
    "te_pts = te_pts.to(device)\n",
    "tr_pts.requires_grad_()\n",
    "te_pts.requires_grad_();"
   ]
  },
  {
   "cell_type": "code",
   "execution_count": 13,
   "metadata": {},
   "outputs": [
    {
     "name": "stdout",
     "output_type": "stream",
     "text": [
      "Sigma:,  [1.         0.59948425 0.35938137 0.21544347 0.12915497 0.07742637\n",
      " 0.04641589 0.02782559 0.01668101 0.01      ]\n"
     ]
    }
   ],
   "source": [
    "# sigmas\n",
    "if hasattr(cfg.trainer, \"sigmas\"):\n",
    "    sigmas = cfg.trainer.sigmas\n",
    "else:\n",
    "    sigma_begin = float(cfg.trainer.sigma_begin)\n",
    "    sigma_end = float(cfg.trainer.sigma_end)\n",
    "    num_classes = int(cfg.trainer.sigma_num)\n",
    "    sigmas = np.exp(np.linspace(np.log(sigma_begin), np.log(sigma_end), num_classes))\n",
    "print(\"Sigma:, \", sigmas)"
   ]
  },
  {
   "cell_type": "code",
   "execution_count": 14,
   "metadata": {},
   "outputs": [
    {
     "name": "stdout",
     "output_type": "stream",
     "text": [
      "Start epoch: 0 End epoch: 100\n",
      "Epoch (critic) 0 Loss=-0.06887 t1=-0.08123 t2=0.01236\n",
      "Epoch (critic) 1 Loss=0.75153 t1=0.69320 t2=0.05833\n",
      "Epoch (critic) 2 Loss=0.46862 t1=0.30254 t2=0.16608\n",
      "Epoch (critic) 3 Loss=0.32016 t1=0.04007 t2=0.28009\n",
      "Epoch (critic) 4 Loss=0.48596 t1=0.03429 t2=0.45168\n",
      "Epoch (critic) 5 Loss=0.84922 t1=0.07115 t2=0.77808\n",
      "Epoch (critic) 6 Loss=1.49500 t1=0.06025 t2=1.43475\n",
      "Epoch (critic) 7 Loss=2.26040 t1=0.09474 t2=2.16566\n",
      "Epoch (critic) 8 Loss=2.45622 t1=0.17567 t2=2.28055\n",
      "Epoch (critic) 9 Loss=3.35793 t1=0.17547 t2=3.18247\n",
      "Epoch (score) 10 Loss=5.84317 t1=0.13168 t2=5.71149\n",
      "Epoch (score) 11 Loss=4.96572 t1=-0.49392 t2=5.45964\n",
      "Epoch (score) 12 Loss=4.18707 t1=-0.95789 t2=5.14497\n",
      "Epoch (score) 13 Loss=4.52369 t1=-1.30639 t2=5.83008\n",
      "Epoch (score) 14 Loss=4.12315 t1=-1.57826 t2=5.70140\n",
      "Epoch (score) 15 Loss=3.80664 t1=-1.85142 t2=5.65805\n",
      "Epoch (score) 16 Loss=3.61936 t1=-2.06414 t2=5.68350\n",
      "Epoch (score) 17 Loss=3.24885 t1=-2.24219 t2=5.49103\n",
      "Epoch (score) 18 Loss=2.47161 t1=-2.49062 t2=4.96222\n",
      "Epoch (score) 19 Loss=2.84221 t1=-2.61205 t2=5.45426\n",
      "Epoch (critic) 20 Loss=2.35636 t1=-2.75887 t2=5.11523\n",
      "Epoch (critic) 21 Loss=4.02886 t1=1.37944 t2=2.64942\n",
      "Epoch (critic) 22 Loss=8.39413 t1=3.39229 t2=5.00184\n",
      "Epoch (critic) 23 Loss=10.48005 t1=4.95072 t2=5.52933\n",
      "Epoch (critic) 24 Loss=12.56378 t1=6.15686 t2=6.40692\n",
      "Epoch (critic) 25 Loss=15.91399 t1=8.30794 t2=7.60605\n",
      "Epoch (critic) 26 Loss=19.91968 t1=7.83790 t2=12.08178\n",
      "Epoch (critic) 27 Loss=23.31613 t1=8.53752 t2=14.77861\n",
      "Epoch (critic) 28 Loss=22.78117 t1=6.79422 t2=15.98695\n",
      "Epoch (critic) 29 Loss=22.63039 t1=7.08371 t2=15.54667\n",
      "Epoch (score) 30 Loss=21.57964 t1=7.93098 t2=13.64865\n",
      "Epoch (score) 31 Loss=15.41993 t1=5.44898 t2=9.97095\n",
      "Epoch (score) 32 Loss=13.39746 t1=2.58827 t2=10.80919\n",
      "Epoch (score) 33 Loss=9.11608 t1=0.46111 t2=8.65496\n",
      "Epoch (score) 34 Loss=7.00165 t1=-1.33804 t2=8.33969\n",
      "Epoch (score) 35 Loss=5.14370 t1=-2.92597 t2=8.06967\n",
      "Epoch (score) 36 Loss=5.23653 t1=-4.19878 t2=9.43532\n",
      "Epoch (score) 37 Loss=4.13480 t1=-5.50168 t2=9.63648\n",
      "Epoch (score) 38 Loss=2.54014 t1=-6.53284 t2=9.07298\n",
      "Epoch (score) 39 Loss=0.93340 t1=-7.53489 t2=8.46829\n",
      "Epoch (critic) 40 Loss=-0.31902 t1=-8.39791 t2=8.07890\n",
      "Epoch (critic) 41 Loss=6.43790 t1=-4.30338 t2=10.74127\n",
      "Epoch (critic) 42 Loss=13.85252 t1=-0.16938 t2=14.02190\n",
      "Epoch (critic) 43 Loss=31.18527 t1=2.67129 t2=28.51398\n",
      "Epoch (critic) 44 Loss=32.18924 t1=3.25228 t2=28.93696\n",
      "Epoch (critic) 45 Loss=3.27664 t1=2.92497 t2=0.35167\n",
      "Epoch (critic) 46 Loss=7.30110 t1=3.74955 t2=3.55155\n",
      "Epoch (critic) 47 Loss=7.13020 t1=4.82285 t2=2.30735\n",
      "Epoch (critic) 48 Loss=8.06163 t1=5.91296 t2=2.14868\n",
      "Epoch (critic) 49 Loss=9.15173 t1=6.86231 t2=2.28941\n",
      "Epoch (score) 50 Loss=10.13559 t1=7.77875 t2=2.35683\n",
      "Epoch (score) 51 Loss=9.73080 t1=7.39274 t2=2.33806\n",
      "Epoch (score) 52 Loss=8.61970 t1=6.32996 t2=2.28974\n",
      "Epoch (score) 53 Loss=6.61297 t1=4.28305 t2=2.32992\n",
      "Epoch (score) 54 Loss=3.30039 t1=0.83538 t2=2.46501\n",
      "Epoch (score) 55 Loss=-0.42272 t1=-2.81399 t2=2.39127\n",
      "Epoch (score) 56 Loss=-2.41567 t1=-4.94239 t2=2.52672\n",
      "Epoch (score) 57 Loss=-3.72504 t1=-6.11798 t2=2.39293\n",
      "Epoch (score) 58 Loss=-4.53571 t1=-6.95648 t2=2.42077\n",
      "Epoch (score) 59 Loss=-5.19543 t1=-7.51725 t2=2.32182\n",
      "Epoch (critic) 60 Loss=-5.77383 t1=-8.06430 t2=2.29047\n",
      "Epoch (critic) 61 Loss=-3.77240 t1=-6.36327 t2=2.59088\n",
      "Epoch (critic) 62 Loss=-0.76910 t1=-3.39214 t2=2.62304\n",
      "Epoch (critic) 63 Loss=3.01198 t1=-0.19220 t2=3.20417\n",
      "Epoch (critic) 64 Loss=6.83891 t1=2.50778 t2=4.33113\n",
      "Epoch (critic) 65 Loss=10.40230 t1=4.60300 t2=5.79929\n",
      "Epoch (critic) 66 Loss=16.43336 t1=6.08838 t2=10.34499\n",
      "Epoch (critic) 67 Loss=24.51728 t1=7.23954 t2=17.27774\n",
      "Epoch (critic) 68 Loss=29.87613 t1=6.90821 t2=22.96792\n",
      "Epoch (critic) 69 Loss=8.70547 t1=7.65679 t2=1.04868\n",
      "Epoch (score) 70 Loss=10.89782 t1=8.28936 t2=2.60845\n",
      "Epoch (score) 71 Loss=9.75486 t1=7.67324 t2=2.08162\n",
      "Epoch (score) 72 Loss=8.45941 t1=6.44578 t2=2.01363\n",
      "Epoch (score) 73 Loss=6.93413 t1=4.45203 t2=2.48210\n",
      "Epoch (score) 74 Loss=3.28774 t1=1.25612 t2=2.03162\n",
      "Epoch (score) 75 Loss=0.14370 t1=-1.53577 t2=1.67947\n",
      "Epoch (score) 76 Loss=-1.28691 t1=-3.67449 t2=2.38758\n",
      "Epoch (score) 77 Loss=-3.21970 t1=-5.29794 t2=2.07824\n",
      "Epoch (score) 78 Loss=-3.90350 t1=-6.38879 t2=2.48529\n",
      "Epoch (score) 79 Loss=-4.86555 t1=-7.27355 t2=2.40800\n",
      "Epoch (critic) 80 Loss=-5.06147 t1=-7.98542 t2=2.92395\n",
      "Epoch (critic) 81 Loss=-2.79086 t1=-5.20050 t2=2.40964\n",
      "Epoch (critic) 82 Loss=0.04314 t1=-0.91838 t2=0.96152\n",
      "Epoch (critic) 83 Loss=4.00248 t1=2.52435 t2=1.47812\n",
      "Epoch (critic) 84 Loss=6.15107 t1=4.07817 t2=2.07290\n",
      "Epoch (critic) 85 Loss=8.10844 t1=5.04983 t2=3.05861\n",
      "Epoch (critic) 86 Loss=9.85812 t1=6.32558 t2=3.53254\n",
      "Epoch (critic) 87 Loss=11.47996 t1=7.65877 t2=3.82119\n",
      "Epoch (critic) 88 Loss=11.52371 t1=7.23710 t2=4.28660\n",
      "Epoch (critic) 89 Loss=16.04065 t1=8.68277 t2=7.35789\n",
      "Epoch (score) 90 Loss=12.09269 t1=10.81826 t2=1.27442\n",
      "Epoch (score) 91 Loss=11.46096 t1=10.15296 t2=1.30800\n",
      "Epoch (score) 92 Loss=9.22048 t1=7.95359 t2=1.26689\n",
      "Epoch (score) 93 Loss=6.76953 t1=4.88932 t2=1.88020\n",
      "Epoch (score) 94 Loss=4.87864 t1=2.50976 t2=2.36888\n",
      "Epoch (score) 95 Loss=1.94855 t1=0.55193 t2=1.39661\n",
      "Epoch (score) 96 Loss=0.09790 t1=-1.56576 t2=1.66365\n",
      "Epoch (score) 97 Loss=-3.47579 t1=-4.71696 t2=1.24117\n",
      "Epoch (score) 98 Loss=-4.35167 t1=-5.53796 t2=1.18630\n",
      "Epoch (score) 99 Loss=-4.77500 t1=-6.52122 t2=1.74622\n"
     ]
    }
   ],
   "source": [
    "# score net\n",
    "score_net = Scorenet()\n",
    "critic_net = Criticnet()\n",
    "critic_net.to(device)\n",
    "score_net.to(device)\n",
    "\n",
    "# optimizer\n",
    "opt_scorenet, scheduler_scorenet = get_opt(score_net.parameters(), cfg.trainer.opt_scorenet)\n",
    "opt_criticnet, scheduler_criticnet = get_opt(critic_net.parameters(), cfg.trainer.opt_scorenet)\n",
    "\n",
    "# training\n",
    "start_epoch = 0\n",
    "print(\"Start epoch: %d End epoch: %d\" % (start_epoch, cfg.trainer.epochs))\n",
    "k_iters = 10\n",
    "e_iters = 10\n",
    "\n",
    "colors = []\n",
    "losses = []\n",
    "\n",
    "for epoch in range(start_epoch, cfg.trainer.epochs):\n",
    "    score_net.train()\n",
    "    critic_net.train()\n",
    "    opt_scorenet.zero_grad()\n",
    "    opt_criticnet.zero_grad()\n",
    "    \n",
    "    labels = torch.randint(0, len(sigmas), (1,), device=tr_pts.device)\n",
    "#     used_sigmas = torch.tensor(np.array(sigmas))[-1].float().view(1, 1).cuda()\n",
    "    used_sigmas = torch.tensor(np.array(sigmas))[-1].float().view(1, 1).to(device)\n",
    "    \n",
    "    perturbed_points = tr_pts + torch.randn_like(tr_pts) * used_sigmas\n",
    "    \n",
    "    score_pred = score_net(perturbed_points, used_sigmas)\n",
    "    critic_output = critic_net(perturbed_points, used_sigmas)\n",
    "    \n",
    "    t1 = (score_pred * critic_output).sum(-1)\n",
    "    t2 = exact_jacobian_trace(critic_output, perturbed_points)\n",
    "    stein = t1 + t2\n",
    "    l2_penalty = (critic_output * critic_output).sum(-1).mean()\n",
    "    loss = stein.mean()\n",
    "    \n",
    "    cycle_iter = epoch % (k_iters + e_iters)\n",
    "    cpu_loss = loss.detach().cpu().item()\n",
    "    cpu_t1 = t1.mean().detach().cpu().item()\n",
    "    cpu_t2 = t2.mean().detach().cpu().item()\n",
    "    if cycle_iter < k_iters:\n",
    "        (-loss + l2_penalty).backward()\n",
    "        opt_criticnet.step()\n",
    "        print(\"Epoch (critic) %d Loss=%2.5f t1=%2.5f t2=%2.5f\" % (epoch, cpu_loss, cpu_t1, cpu_t2))\n",
    "        losses.append(cpu_loss)\n",
    "        colors.append('blue')\n",
    "    else:\n",
    "        loss.backward()\n",
    "        opt_scorenet.step()\n",
    "        print(\"Epoch (score) %d Loss=%2.5f t1=%2.5f t2=%2.5f\" % (epoch, cpu_loss, cpu_t1, cpu_t2))\n",
    "        losses.append(cpu_loss)\n",
    "        colors.append('red')"
   ]
  },
  {
   "cell_type": "code",
   "execution_count": 22,
   "metadata": {},
   "outputs": [
    {
     "data": {
      "image/png": "[encoded data removed]",
      "text/plain": [
       "<Figure size 432x288 with 1 Axes>"
      ]
     },
     "metadata": {
      "needs_background": "light"
     },
     "output_type": "display_data"
    }
   ],
   "source": [
    "for i, (loss, color) in enumerate(zip(losses, colors)):\n",
    "    plt.scatter(i, loss, color=color)"
   ]
  },
  {
   "cell_type": "code",
   "execution_count": null,
   "metadata": {},
   "outputs": [],
   "source": []
  }
 ],
 "metadata": {
  "kernelspec": {
   "display_name": "prob-learn-proj",
   "language": "python",
   "name": "prob-learn-proj"
  },
  "language_info": {
   "codemirror_mode": {
    "name": "ipython",
    "version": 3
   },
   "file_extension": ".py",
   "mimetype": "text/x-python",
   "name": "python",
   "nbconvert_exporter": "python",
   "pygments_lexer": "ipython3",
   "version": "3.6.9"
  }
 },
 "nbformat": 4,
 "nbformat_minor": 2
}
