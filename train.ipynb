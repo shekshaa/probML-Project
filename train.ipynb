{
 "cells": [
  {
   "cell_type": "code",
   "execution_count": null,
   "metadata": {},
   "outputs": [],
   "source": [
    "import yaml\n",
    "import torch\n",
    "import torch.nn as nn\n",
    "import numpy as np\n",
    "import tqdm\n",
    "import os\n",
    "import argparse\n",
    "from torch.backends import cudnn\n",
    "\n",
    "cudnn.benchmark = True\n",
    "\n",
    "def delete_module(name):\n",
    "    import sys\n",
    "    del sys.modules[name]"
   ]
  },
  {
   "cell_type": "code",
   "execution_count": null,
   "metadata": {},
   "outputs": [],
   "source": [
    "# delete_module('scorenet')\n",
    "# from scorenet import Scorenet"
   ]
  },
  {
   "cell_type": "code",
   "execution_count": null,
   "metadata": {},
   "outputs": [],
   "source": [
    "# delete_module('critic')\n",
    "# from critic import Criticnet"
   ]
  },
  {
   "cell_type": "code",
   "execution_count": null,
   "metadata": {},
   "outputs": [],
   "source": [
    "device = torch.device('cuda' if torch.cuda.is_available() else 'cpu')"
   ]
  },
  {
   "cell_type": "code",
   "execution_count": null,
   "metadata": {},
   "outputs": [],
   "source": [
    "config_file = './test_config.yaml'\n",
    "\n",
    "def dict2namespace(config):\n",
    "    namespace = argparse.Namespace()\n",
    "    for key, value in config.items():\n",
    "        if isinstance(value, dict):\n",
    "            new_value = dict2namespace(value)\n",
    "        else:\n",
    "            new_value = value\n",
    "        setattr(namespace, key, new_value)\n",
    "    return namespace\n",
    "\n",
    "with open(config_file, 'r') as f:\n",
    "    config = yaml.load(f)\n",
    "        \n",
    "cfg = dict2namespace(config)\n",
    "cfg"
   ]
  },
  {
   "cell_type": "code",
   "execution_count": null,
   "metadata": {},
   "outputs": [],
   "source": [
    "cfg.data"
   ]
  },
  {
   "cell_type": "code",
   "execution_count": null,
   "metadata": {},
   "outputs": [],
   "source": [
    "cfg.trainer"
   ]
  },
  {
   "cell_type": "code",
   "execution_count": null,
   "metadata": {},
   "outputs": [],
   "source": [
    "cfg.models"
   ]
  },
  {
   "cell_type": "code",
   "execution_count": null,
   "metadata": {},
   "outputs": [],
   "source": [
    "cfg.inference"
   ]
  },
  {
   "cell_type": "code",
   "execution_count": null,
   "metadata": {},
   "outputs": [],
   "source": [
    "cfg.viz"
   ]
  },
  {
   "cell_type": "markdown",
   "metadata": {},
   "source": [
    "# Train"
   ]
  },
  {
   "cell_type": "code",
   "execution_count": null,
   "metadata": {},
   "outputs": [],
   "source": [
    "from scorenet import Scorenet\n",
    "from critic import Criticnet\n",
    "from utils import get_opt, approx_jacobian_trace, set_random_seed\n",
    "from data_loader import get_data\n",
    "import random"
   ]
  },
  {
   "cell_type": "code",
   "execution_count": null,
   "metadata": {},
   "outputs": [],
   "source": [
    "set_random_seed(getattr(cfg.trainer, \"seed\", 666))\n",
    "\n",
    "# load data\n",
    "train_data = get_data(cfg.data, 0)\n",
    "tr_pts = train_data['tr_points'].unsqueeze(0)\n",
    "te_pts = train_data['te_points'].unsqueeze(0)\n",
    "tr_pts = tr_pts.to(device)\n",
    "te_pts = te_pts.to(device)\n",
    "tr_pts.requires_grad_()\n",
    "te_pts.requires_grad_()"
   ]
  },
  {
   "cell_type": "code",
   "execution_count": null,
   "metadata": {},
   "outputs": [],
   "source": [
    "# sigmas\n",
    "if hasattr(cfg.trainer, \"sigmas\"):\n",
    "    sigmas = cfg.trainer.sigmas\n",
    "else:\n",
    "    sigma_begin = float(cfg.trainer.sigma_begin)\n",
    "    sigma_end = float(cfg.trainer.sigma_end)\n",
    "    num_classes = int(cfg.trainer.sigma_num)\n",
    "    sigmas = np.exp(np.linspace(np.log(sigma_begin), np.log(sigma_end), num_classes))\n",
    "print(\"Sigma:, \", sigmas)"
   ]
  },
  {
   "cell_type": "code",
   "execution_count": null,
   "metadata": {},
   "outputs": [],
   "source": [
    "# score net\n",
    "score_net = Scorenet()\n",
    "critic_net = Criticnet()\n",
    "critic_net.to(device)\n",
    "score_net.to(device)\n",
    "\n",
    "print(score_net)\n",
    "print(critic_net)\n",
    "\n",
    "# optimizer\n",
    "opt_scorenet, scheduler_scorenet = get_opt(score_net.parameters(), cfg.trainer.opt_scorenet)\n",
    "opt_criticnet, scheduler_criticnet = get_opt(critic_net.parameters(), cfg.trainer.opt_scorenet)\n",
    "\n",
    "# training\n",
    "start_epoch = 0\n",
    "print(\"Start epoch: %d End epoch: %d\" % (start_epoch, cfg.trainer.epochs))\n",
    "k_iters = 10\n",
    "e_iters = 1\n",
    "for epoch in range(start_epoch, cfg.trainer.epochs):\n",
    "    score_net.train()\n",
    "    critic_net.train()\n",
    "    opt_scorenet.zero_grad()\n",
    "    opt_criticnet.zero_grad()\n",
    "    \n",
    "    labels = torch.randint(0, len(sigmas), (1,), device=tr_pts.device)\n",
    "    used_sigmas = torch.tensor(np.array(sigmas))[labels].float().view(1, 1).cuda()\n",
    "    \n",
    "    perturbed_points = tr_pts + torch.randn_like(tr_pts) * used_sigmas\n",
    "    \n",
    "    score_pred = score_net(perturbed_points, used_sigmas)\n",
    "    critic_output = critic_net(perturbed_points, used_sigmas)\n",
    "    \n",
    "    t1 = (score_pred * critic_output).sum(-1)\n",
    "    t2 = approx_jacobian_trace(critic_output, perturbed_points)\n",
    "    stein = t1 + t2\n",
    "    l2_penalty = (critic_output * critic_output).sum(-1).mean()\n",
    "    loss = stein.mean() - 0.001 * l2_penalty\n",
    "    \n",
    "    cycle_iter = epoch % (k_iters + e_iters)\n",
    "    if cycle_iter < k_iters:\n",
    "        (-loss).backward()\n",
    "        opt_criticnet.step()\n",
    "    else:\n",
    "        loss.backward()\n",
    "        opt_scorenet.step()\n",
    "\n",
    "    cpu_loss = loss.detach().cpu().item()\n",
    "    print(\"Epoch %d Loss %2.5f\" % (epoch, cpu_loss))"
   ]
  },
  {
   "cell_type": "code",
   "execution_count": null,
   "metadata": {},
   "outputs": [],
   "source": []
  }
 ],
 "metadata": {
  "kernelspec": {
   "display_name": "Python 3",
   "language": "python",
   "name": "python3"
  },
  "language_info": {
   "codemirror_mode": {
    "name": "ipython",
    "version": 3
   },
   "file_extension": ".py",
   "mimetype": "text/x-python",
   "name": "python",
   "nbconvert_exporter": "python",
   "pygments_lexer": "ipython3",
   "version": "3.6.10"
  }
 },
 "nbformat": 4,
 "nbformat_minor": 2
}
