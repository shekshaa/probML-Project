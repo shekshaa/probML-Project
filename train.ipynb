{
 "cells": [
  {
   "cell_type": "code",
   "execution_count": 1,
   "metadata": {},
   "outputs": [],
   "source": [
    "import yaml\n",
    "import torch\n",
    "import torch.nn as nn\n",
    "import numpy as np\n",
    "import tqdm\n",
    "import os\n",
    "import argparse\n",
    "from torch.backends import cudnn\n",
    "from matplotlib import pyplot as plt\n",
    "\n",
    "cudnn.benchmark = True\n",
    "\n",
    "def delete_module(name):\n",
    "    import sys\n",
    "    del sys.modules[name]\n",
    "    \n",
    "%load_ext autoreload\n",
    "%autoreload 2"
   ]
  },
  {
   "cell_type": "code",
   "execution_count": null,
   "metadata": {},
   "outputs": [],
   "source": [
    "# delete_module('scorenet')\n",
    "# from scorenet import Scorenet"
   ]
  },
  {
   "cell_type": "code",
   "execution_count": null,
   "metadata": {},
   "outputs": [],
   "source": [
    "# delete_module('critic')\n",
    "# from critic import Criticnet"
   ]
  },
  {
   "cell_type": "code",
   "execution_count": 2,
   "metadata": {},
   "outputs": [],
   "source": [
    "device = torch.device('cuda:0' if torch.cuda.is_available() else 'cpu')"
   ]
  },
  {
   "cell_type": "code",
   "execution_count": 3,
   "metadata": {},
   "outputs": [
    {
     "name": "stderr",
     "output_type": "stream",
     "text": [
      "/nfs/rhea.dgp/u6/a/mrsalehi/.virtualenvs/prob-learn-proj/lib/python3.6/site-packages/ipykernel_launcher.py:14: YAMLLoadWarning: calling yaml.load() without Loader=... is deprecated, as the default Loader is unsafe. Please read https://msg.pyyaml.org/load for full details.\n",
      "  \n"
     ]
    },
    {
     "data": {
      "text/plain": [
       "Namespace(data=Namespace(batch_size=32, cates=['0'], data_dir='data/MNIST-CP', dataset_scale=1, dataset_type='MNIST_CP', normalize_per_shape=False, normalize_std_per_axis=False, num_workers=4, recenter_per_shape=True, te_max_sample_points=0, tr_max_sample_points=800, type='datasets.mnist_cp'), inference=Namespace(num_points=2048, num_steps=10, step_size_ratio=1, weight=1), models=Namespace(scorenet=Namespace(dim=3, hidden_size=256, n_blocks=24, out_dim=3, param_likelihood=False, sigma_condition=True, type='models.decoders.resnet_add', xyz_condition=True, z_dim=128)), trainer=Namespace(epochs=200, opt_criticnet=Namespace(beta1=0.9, beta2=0.999, lr='1e-3', momentum=0.9, scheduler='linear', step_epoch=2000, type='adam', weight_decay=0.0), opt_scorenet=Namespace(beta1=0.9, beta2=0.999, lr='1e-3', momentum=0.9, scheduler='linear', step_epoch=2000, type='adam', weight_decay=0.0), seed=100, sigma_begin=1, sigma_end=0.01, sigma_num=10, type='trainers.ae_trainer_3D'), viz=Namespace(log_freq=10, save_freq=100, val_freq=100, viz_freq=5000))"
      ]
     },
     "execution_count": 3,
     "metadata": {},
     "output_type": "execute_result"
    }
   ],
   "source": [
    "config_file = './test_config_mnist.yaml'\n",
    "\n",
    "def dict2namespace(config):\n",
    "    namespace = argparse.Namespace()\n",
    "    for key, value in config.items():\n",
    "        if isinstance(value, dict):\n",
    "            new_value = dict2namespace(value)\n",
    "        else:\n",
    "            new_value = value\n",
    "        setattr(namespace, key, new_value)\n",
    "    return namespace\n",
    "\n",
    "with open(config_file, 'r') as f:\n",
    "    config = yaml.load(f)\n",
    "        \n",
    "cfg = dict2namespace(config)\n",
    "cfg"
   ]
  },
  {
   "cell_type": "code",
   "execution_count": 4,
   "metadata": {},
   "outputs": [
    {
     "data": {
      "text/plain": [
       "Namespace(batch_size=32, cates=['0'], data_dir='data/MNIST-CP', dataset_scale=1, dataset_type='MNIST_CP', normalize_per_shape=False, normalize_std_per_axis=False, num_workers=4, recenter_per_shape=True, te_max_sample_points=0, tr_max_sample_points=800, type='datasets.mnist_cp')"
      ]
     },
     "execution_count": 4,
     "metadata": {},
     "output_type": "execute_result"
    }
   ],
   "source": [
    "cfg.data"
   ]
  },
  {
   "cell_type": "code",
   "execution_count": 5,
   "metadata": {},
   "outputs": [
    {
     "data": {
      "text/plain": [
       "Namespace(epochs=200, opt_criticnet=Namespace(beta1=0.9, beta2=0.999, lr='1e-3', momentum=0.9, scheduler='linear', step_epoch=2000, type='adam', weight_decay=0.0), opt_scorenet=Namespace(beta1=0.9, beta2=0.999, lr='1e-3', momentum=0.9, scheduler='linear', step_epoch=2000, type='adam', weight_decay=0.0), seed=100, sigma_begin=1, sigma_end=0.01, sigma_num=10, type='trainers.ae_trainer_3D')"
      ]
     },
     "execution_count": 5,
     "metadata": {},
     "output_type": "execute_result"
    }
   ],
   "source": [
    "cfg.trainer"
   ]
  },
  {
   "cell_type": "code",
   "execution_count": 6,
   "metadata": {},
   "outputs": [
    {
     "data": {
      "text/plain": [
       "Namespace(scorenet=Namespace(dim=3, hidden_size=256, n_blocks=24, out_dim=3, param_likelihood=False, sigma_condition=True, type='models.decoders.resnet_add', xyz_condition=True, z_dim=128))"
      ]
     },
     "execution_count": 6,
     "metadata": {},
     "output_type": "execute_result"
    }
   ],
   "source": [
    "cfg.models"
   ]
  },
  {
   "cell_type": "code",
   "execution_count": 7,
   "metadata": {},
   "outputs": [
    {
     "data": {
      "text/plain": [
       "Namespace(num_points=2048, num_steps=10, step_size_ratio=1, weight=1)"
      ]
     },
     "execution_count": 7,
     "metadata": {},
     "output_type": "execute_result"
    }
   ],
   "source": [
    "cfg.inference"
   ]
  },
  {
   "cell_type": "code",
   "execution_count": 8,
   "metadata": {},
   "outputs": [
    {
     "data": {
      "text/plain": [
       "Namespace(log_freq=10, save_freq=100, val_freq=100, viz_freq=5000)"
      ]
     },
     "execution_count": 8,
     "metadata": {},
     "output_type": "execute_result"
    }
   ],
   "source": [
    "cfg.viz"
   ]
  },
  {
   "cell_type": "markdown",
   "metadata": {},
   "source": [
    "# Train"
   ]
  },
  {
   "cell_type": "code",
   "execution_count": 9,
   "metadata": {},
   "outputs": [],
   "source": [
    "from scorenet import Scorenet\n",
    "from critic import Criticnet\n",
    "from utils import get_opt, approx_jacobian_trace, set_random_seed, exact_jacobian_trace\n",
    "from data_loader import get_data, get_data_mnist_cp\n",
    "import random"
   ]
  },
  {
   "cell_type": "code",
   "execution_count": 10,
   "metadata": {},
   "outputs": [
    {
     "name": "stderr",
     "output_type": "stream",
     "text": [
      "100%|██████████| 1/1 [00:02<00:00,  2.83s/it]\n"
     ]
    },
    {
     "name": "stdout",
     "output_type": "stream",
     "text": [
      "Total number of data:4729\n",
      "Min number of points: (train)600 (test)0\n"
     ]
    }
   ],
   "source": [
    "set_random_seed(getattr(cfg.trainer, \"seed\", 666))\n",
    "\n",
    "# load data\n",
    "train_data = get_data_mnist_cp(cfg.data, 0)\n",
    "tr_pts = train_data['tr_points'].unsqueeze(0)\n",
    "te_pts = train_data['te_points'].unsqueeze(0)\n",
    "tr_pts = tr_pts.to(device)\n",
    "te_pts = te_pts.to(device)\n",
    "tr_pts.requires_grad_()\n",
    "te_pts.requires_grad_();"
   ]
  },
  {
   "cell_type": "code",
   "execution_count": 11,
   "metadata": {},
   "outputs": [
    {
     "name": "stdout",
     "output_type": "stream",
     "text": [
      "Sigma:,  [1.         0.59948425 0.35938137 0.21544347 0.12915497 0.07742637\n",
      " 0.04641589 0.02782559 0.01668101 0.01      ]\n"
     ]
    }
   ],
   "source": [
    "# sigmas\n",
    "if hasattr(cfg.trainer, \"sigmas\"):\n",
    "    sigmas = cfg.trainer.sigmas\n",
    "else:\n",
    "    sigma_begin = float(cfg.trainer.sigma_begin)\n",
    "    sigma_end = float(cfg.trainer.sigma_end)\n",
    "    num_classes = int(cfg.trainer.sigma_num)\n",
    "    sigmas = np.exp(np.linspace(np.log(sigma_begin), np.log(sigma_end), num_classes))\n",
    "print(\"Sigma:, \", sigmas)"
   ]
  },
  {
   "cell_type": "code",
   "execution_count": 12,
   "metadata": {},
   "outputs": [],
   "source": [
    "k_e = [(10, 10), (20, 10), (30, 10), (40, 10), (50, 10)]"
   ]
  },
  {
   "cell_type": "code",
   "execution_count": 13,
   "metadata": {},
   "outputs": [
    {
     "name": "stderr",
     "output_type": "stream",
     "text": [
      "\r",
      "  0%|          | 0/5 [00:00<?, ?it/s]"
     ]
    },
    {
     "name": "stdout",
     "output_type": "stream",
     "text": [
      "Start epoch: 0 End epoch: 200\n"
     ]
    },
    {
     "name": "stderr",
     "output_type": "stream",
     "text": [
      "100%|██████████| 5/5 [00:55<00:00, 11.04s/it]\n"
     ]
    }
   ],
   "source": [
    "# score net\n",
    "score_net = Scorenet()\n",
    "critic_net = Criticnet()\n",
    "critic_net.to(device)\n",
    "score_net.to(device)\n",
    "\n",
    "# optimizer\n",
    "opt_scorenet, scheduler_scorenet = get_opt(score_net.parameters(), cfg.trainer.opt_scorenet)\n",
    "opt_criticnet, scheduler_criticnet = get_opt(critic_net.parameters(), cfg.trainer.opt_scorenet)\n",
    "\n",
    "# training\n",
    "start_epoch = 0\n",
    "print(\"Start epoch: %d End epoch: %d\" % (start_epoch, cfg.trainer.epochs))\n",
    "k_iters = 10\n",
    "e_iters = 10\n",
    "\n",
    "all_exp_colors = []\n",
    "all_exp_losses = []\n",
    "\n",
    "for k_iters, e_iters in tqdm.tqdm(k_e, total=len(k_e)):\n",
    "    losses = []\n",
    "    colors = []\n",
    "    for epoch in range(start_epoch, cfg.trainer.epochs):\n",
    "        score_net.train()\n",
    "        critic_net.train()\n",
    "        opt_scorenet.zero_grad()\n",
    "        opt_criticnet.zero_grad()\n",
    "\n",
    "        labels = torch.randint(0, len(sigmas), (1,), device=tr_pts.device)\n",
    "    #     used_sigmas = torch.tensor(np.array(sigmas))[-1].float().view(1, 1).cuda()\n",
    "        used_sigmas = torch.tensor(np.array(sigmas))[-1].float().view(1, 1).to(device)\n",
    "\n",
    "        perturbed_points = tr_pts + torch.randn_like(tr_pts) * used_sigmas\n",
    "\n",
    "        score_pred = score_net(perturbed_points, used_sigmas)\n",
    "        critic_output = critic_net(perturbed_points, used_sigmas)\n",
    "\n",
    "        t1 = (score_pred * critic_output).sum(-1)\n",
    "        t2 = exact_jacobian_trace(critic_output, perturbed_points)\n",
    "        stein = t1 + t2\n",
    "        l2_penalty = (critic_output * critic_output).sum(-1).mean()\n",
    "        loss = stein.mean()\n",
    "\n",
    "        cycle_iter = epoch % (k_iters + e_iters)\n",
    "        cpu_loss = loss.detach().cpu().item()\n",
    "        cpu_t1 = t1.mean().detach().cpu().item()\n",
    "        cpu_t2 = t2.mean().detach().cpu().item()\n",
    "        if cycle_iter < k_iters:\n",
    "            (-loss + l2_penalty).backward()\n",
    "            opt_criticnet.step()\n",
    "            #print(\"Epoch (critic) %d Loss=%2.5f t1=%2.5f t2=%2.5f\" % (epoch, cpu_loss, cpu_t1, cpu_t2))\n",
    "            losses.append(cpu_loss)\n",
    "            colors.append('blue')\n",
    "        else:\n",
    "            loss.backward()\n",
    "            opt_scorenet.step()\n",
    "            #print(\"Epoch (score) %d Loss=%2.5f t1=%2.5f t2=%2.5f\" % (epoch, cpu_loss, cpu_t1, cpu_t2))\n",
    "            losses.append(cpu_loss)\n",
    "            colors.append('red')\n",
    "    \n",
    "    all_exp_colors.append(colors)\n",
    "    all_exp_losses.append(losses)"
   ]
  },
  {
   "cell_type": "code",
   "execution_count": null,
   "metadata": {},
   "outputs": [],
   "source": [
    "fig = plt.figure(figsize=(20, 20))\n",
    "for i, (loss, color) in enumerate(zip(losses, colors)):\n",
    "    plt.scatter(i, loss, color=color)"
   ]
  },
  {
   "cell_type": "code",
   "execution_count": 18,
   "metadata": {},
   "outputs": [
    {
     "data": {
      "image/png": "[encoded data removed]",
      "text/plain": [
       "<Figure size 1080x1080 with 5 Axes>"
      ]
     },
     "metadata": {
      "needs_background": "light"
     },
     "output_type": "display_data"
    }
   ],
   "source": [
    "fig, axes = plt.subplots(5, 1, figsize=(15, 15))\n",
    "\n",
    "for i in range(5):\n",
    "    for j, (loss, color) in enumerate(zip(all_exp_losses[i], all_exp_colors[i])):\n",
    "        axes[i].scatter(j, loss, color=color)"
   ]
  },
  {
   "cell_type": "code",
   "execution_count": null,
   "metadata": {},
   "outputs": [],
   "source": []
  }
 ],
 "metadata": {
  "kernelspec": {
   "display_name": "prob-learn-proj",
   "language": "python",
   "name": "prob-learn-proj"
  },
  "language_info": {
   "codemirror_mode": {
    "name": "ipython",
    "version": 3
   },
   "file_extension": ".py",
   "mimetype": "text/x-python",
   "name": "python",
   "nbconvert_exporter": "python",
   "pygments_lexer": "ipython3",
   "version": "3.6.9"
  }
 },
 "nbformat": 4,
 "nbformat_minor": 2
}
